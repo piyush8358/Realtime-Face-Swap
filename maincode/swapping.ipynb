{
 "cells": [
  {
   "cell_type": "code",
   "execution_count": 1,
   "metadata": {},
   "outputs": [],
   "source": [
    "# Import necessary libraries\n",
    "import cv2\n",
    "import numpy as np"
   ]
  },
  {
   "cell_type": "code",
   "execution_count": 2,
   "metadata": {},
   "outputs": [],
   "source": [
    "# Function to swap faces\n",
    "def swap_faces(source_face, target_face):\n",
    "    # Resize the source face to match the dimensions of the target face\n",
    "    source_face_resized = cv2.resize(source_face, (target_face.shape[1], target_face.shape[0]))\n",
    "    return source_face_resized\n",
    "\n"
   ]
  },
  {
   "cell_type": "code",
   "execution_count": 3,
   "metadata": {},
   "outputs": [],
   "source": [
    "def main():\n",
    "    # Load the pre-trained Haar cascade for face detection\n",
    "    face_cascade = cv2.CascadeClassifier(cv2.data.haarcascades + 'haarcascade_frontalface_default.xml')\n",
    "    \n",
    "    # Open a connection to the webcam (change the argument to 0 for built-in webcam)\n",
    "    cap = cv2.VideoCapture(1)\n",
    "    \n",
    "    # Read source face image\n",
    "    source_face = cv2.imread('F:/code/sourceimages/source_face.jpg')\n",
    "    \n",
    "    if source_face is None:\n",
    "        print(\"Source face image not found.\")\n",
    "        return\n",
    "    \n",
    "    while True:\n",
    "        ret, frame = cap.read()  # Capture a frame from the webcam\n",
    "        \n",
    "        if not ret:\n",
    "            break\n",
    "        \n",
    "        gray_frame = cv2.cvtColor(frame, cv2.COLOR_BGR2GRAY)\n",
    "        faces = face_cascade.detectMultiScale(gray_frame, scaleFactor=1.1, minNeighbors=5, minSize=(30, 30))\n",
    "        \n",
    "        for (x_t, y_t, w_t, h_t) in faces:\n",
    "            # Extract the target face region\n",
    "            target_face = frame[y_t:y_t+h_t, x_t:x_t+w_t]\n",
    "            \n",
    "            if target_face.shape[0] > 0 and target_face.shape[1] > 0:\n",
    "                # Replace the target face with the source face\n",
    "                swapped_face = swap_faces(source_face, target_face)\n",
    "                frame[y_t:y_t+h_t, x_t:x_t+w_t] = swapped_face\n",
    "        \n",
    "        # Create a mask for the faces\n",
    "        mask = np.zeros_like(frame)\n",
    "        for (x, y, w, h) in faces:\n",
    "            cv2.rectangle(mask, (x, y), (x + w, y + h), (255, 255, 255), -1)\n",
    "        \n",
    "        # Apply Gaussian blur to the background using the mask\n",
    "        blurred_frame = cv2.GaussianBlur(frame, (21, 21), 0)\n",
    "        frame = cv2.bitwise_and(frame, mask)\n",
    "        frame = cv2.add(frame, blurred_frame)\n",
    "        \n",
    "        # Display the frame with swapped faces and blurred background\n",
    "        cv2.imshow(\"Live Face Swapping with Blurred Background\", frame)\n",
    "        \n",
    "        # Break the loop if the 'q' key is pressed\n",
    "        if cv2.waitKey(1) & 0xFF == ord('q'):\n",
    "            break\n",
    "    \n",
    "    cap.release()\n",
    "    cv2.destroyAllWindows()\n",
    "\n",
    "if __name__ == \"__main__\":\n",
    "    main()\n"
   ]
  },
  {
   "cell_type": "code",
   "execution_count": null,
   "metadata": {},
   "outputs": [],
   "source": []
  }
 ],
 "metadata": {
  "kernelspec": {
   "display_name": "base",
   "language": "python",
   "name": "python3"
  },
  "language_info": {
   "codemirror_mode": {
    "name": "ipython",
    "version": 3
   },
   "file_extension": ".py",
   "mimetype": "text/x-python",
   "name": "python",
   "nbconvert_exporter": "python",
   "pygments_lexer": "ipython3",
   "version": "3.11.3"
  },
  "orig_nbformat": 4
 },
 "nbformat": 4,
 "nbformat_minor": 2
}
